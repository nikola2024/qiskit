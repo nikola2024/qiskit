{
 "cells": [
  {
   "cell_type": "markdown",
   "id": "9a588571",
   "metadata": {},
   "source": [
    "# Quantum Superdense Coding"
   ]
  },
  {
   "cell_type": "markdown",
   "id": "9a34a49a-d3e1-4b59-842c-33c39708d45f",
   "metadata": {},
   "source": [
    "### This is an implementation of superdense coding using quantum entanglement. The idea is that one party, say Alice, can send two bits of information to another party, say Bob, by transfering only one qubit. This works if both parties each had one qubit to begin with, which was part of an entangled state."
   ]
  },
  {
   "cell_type": "code",
   "execution_count": 1,
   "id": "ae65a476-3cfc-48dd-afdc-f8b24562469d",
   "metadata": {},
   "outputs": [],
   "source": [
    "import numpy as np\n",
    "\n",
    "# Importing standard Qiskit libraries\n",
    "from qiskit import QuantumCircuit, transpile, Aer, IBMQ\n",
    "from qiskit.tools.jupyter import *\n",
    "from qiskit.visualization import *\n",
    "from qiskit.providers.aer import QasmSimulator\n",
    "from qiskit.quantum_info import Statevector\n",
    "\n",
    "# Loading your IBM Quantum account(s)\n",
    "provider = IBMQ.load_account()"
   ]
  },
  {
   "cell_type": "code",
   "execution_count": 2,
   "id": "10baf469-a424-4376-9963-fb792d5ccbd2",
   "metadata": {},
   "outputs": [
    {
     "data": {
      "text/latex": [
       "$$\\frac{\\sqrt{2}}{2} |00\\rangle+\\frac{\\sqrt{2}}{2} |11\\rangle$$"
      ],
      "text/plain": [
       "<IPython.core.display.Latex object>"
      ]
     },
     "execution_count": 2,
     "metadata": {},
     "output_type": "execute_result"
    }
   ],
   "source": [
    "# we first create the entangled state\n",
    "qc = QuantumCircuit(2, 2)\n",
    "qc.h(1)\n",
    "qc.cx(1, 0)\n",
    "\n",
    "initial_state = Statevector(qc)\n",
    "initial_state.draw(output='latex')"
   ]
  },
  {
   "cell_type": "markdown",
   "id": "70ce7ad3-46d8-41ed-b806-01d2c7cb544e",
   "metadata": {},
   "source": [
    "### Above we have the initial entangled Bell state. We give the left qubit to Alice and the right one to Bob."
   ]
  },
  {
   "cell_type": "code",
   "execution_count": 3,
   "id": "b6803870-0093-4845-9501-17460a7f8d00",
   "metadata": {},
   "outputs": [],
   "source": [
    "# let Alice manipulate her qubit depending on the message she wants to send to Bob\n",
    "def encode_message(qc, message):\n",
    "    \n",
    "    if len(message) != 2:\n",
    "        raise Exception(\"Error - message of incorrect length has been passed!\")\n",
    "    if message[0] == '1':\n",
    "        qc.z(1)\n",
    "    if message[1] == '1':\n",
    "        qc.x(1)"
   ]
  },
  {
   "cell_type": "markdown",
   "id": "2a95a193-c02e-4f55-a238-23037f537f9c",
   "metadata": {},
   "source": [
    "### Effectively, depending on the message Alice wants to send Bob, she applies different gates to her qubit. The options are:\n",
    " - ### 00 -> no gates applied\n",
    " - ### 01 -> X gate applied\n",
    " - ### 10 -> Z gate applied\n",
    " - ### 11 -> Z gate, followed by X gate, applied\n",
    " \n",
    "### What these operations do are to transform the full entangled state into one of the four Bell states."
   ]
  },
  {
   "cell_type": "markdown",
   "id": "0460b5ad-3dc0-431b-b8c4-a335a90487fe",
   "metadata": {},
   "source": [
    "### Imagine Alice now sends her qubit from the entangled pair to Bob. He now has access to both qubits and can measure them. Note that Alice has only sent one qubit of information! Bob can deduce the message Alice wanted to send by measuring the two qubits, but first has to apply two gates:\n",
    "- ### a controlled-NOT gate with his original qubit as the control, and the qubit received from Alice as the target;\n",
    "- ### a Hadamard transform to his original qubit."
   ]
  },
  {
   "cell_type": "code",
   "execution_count": 4,
   "id": "b82030e3-fd16-46da-bafb-4efbea850488",
   "metadata": {},
   "outputs": [],
   "source": [
    "# decode message\n",
    "def decode_message(qc):\n",
    "    qc.cx(1, 0)\n",
    "    qc.h(1)\n",
    "    qc.measure([0, 1], [0, 1])\n",
    "    sim = QasmSimulator()\n",
    "    job = sim.run(qc)\n",
    "    result = job.result()\n",
    "    return result.get_counts()"
   ]
  },
  {
   "cell_type": "code",
   "execution_count": 8,
   "id": "1dea346b-87d0-4548-8920-56a333aeb598",
   "metadata": {},
   "outputs": [
    {
     "name": "stdout",
     "output_type": "stream",
     "text": [
      "{'11': 1024}\n"
     ]
    }
   ],
   "source": [
    "# run the full program\n",
    "\n",
    "# we first create the entangled state\n",
    "qc = QuantumCircuit(2, 2)\n",
    "qc.h(1)\n",
    "qc.cx(1, 0)\n",
    "\n",
    "message = '11'\n",
    "encode_message(qc, message)\n",
    "result = decode_message(qc)\n",
    "print(result)"
   ]
  },
  {
   "cell_type": "markdown",
   "id": "05d84dab",
   "metadata": {},
   "source": [
    "### Effectively, all this works because we can generate all Bell states from the computational basis by applying a Hadmard transform to one of the two qubits, followed by a controlled-NOT gate with that qubit as the control."
   ]
  },
  {
   "cell_type": "code",
   "execution_count": null,
   "id": "649f53df-38dc-400c-a348-28c58f28f753",
   "metadata": {},
   "outputs": [],
   "source": []
  }
 ],
 "metadata": {
  "kernelspec": {
   "display_name": "Python 3.8.9 64-bit",
   "language": "python",
   "name": "python3"
  },
  "language_info": {
   "codemirror_mode": {
    "name": "ipython",
    "version": 3
   },
   "file_extension": ".py",
   "mimetype": "text/x-python",
   "name": "python",
   "nbconvert_exporter": "python",
   "pygments_lexer": "ipython3",
   "version": "3.8.9"
  },
  "vscode": {
   "interpreter": {
    "hash": "31f2aee4e71d21fbe5cf8b01ff0e069b9275f58929596ceb00d14d90e3e16cd6"
   }
  },
  "widgets": {
   "application/vnd.jupyter.widget-state+json": {
    "state": {
     "14e263c141574a27b2ad99f2e313b767": {
      "model_module": "@jupyter-widgets/controls",
      "model_module_version": "1.5.0",
      "model_name": "DescriptionStyleModel",
      "state": {
       "description_width": ""
      }
     },
     "1d57532ae1c640d0a9b904b152d066e9": {
      "model_module": "@jupyter-widgets/base",
      "model_module_version": "1.2.0",
      "model_name": "LayoutModel",
      "state": {}
     },
     "2e38ab9b9abd47c8878cf589e3dffc3f": {
      "model_module": "@jupyter-widgets/controls",
      "model_module_version": "1.5.0",
      "model_name": "ButtonStyleModel",
      "state": {}
     },
     "35dcc6130b114e4b8fa4fd284dda1037": {
      "model_module": "@jupyter-widgets/base",
      "model_module_version": "1.2.0",
      "model_name": "LayoutModel",
      "state": {
       "margin": "0px 0px 0px 37px",
       "width": "600px"
      }
     },
     "3b2999973391465fa33194f41e230510": {
      "model_module": "@jupyter-widgets/controls",
      "model_module_version": "1.5.0",
      "model_name": "DescriptionStyleModel",
      "state": {
       "description_width": ""
      }
     },
     "3bddef4379a741dda0ec6e34eb066ad7": {
      "model_module": "@jupyter-widgets/base",
      "model_module_version": "1.2.0",
      "model_name": "LayoutModel",
      "state": {
       "margin": "0px 0px 10px 0px"
      }
     },
     "4d295bb7d18f403ea86f09c98d627130": {
      "model_module": "@jupyter-widgets/base",
      "model_module_version": "1.2.0",
      "model_name": "LayoutModel",
      "state": {
       "width": "70px"
      }
     },
     "532d403d84d84b1399c461aad403d015": {
      "model_module": "@jupyter-widgets/controls",
      "model_module_version": "1.5.0",
      "model_name": "DescriptionStyleModel",
      "state": {
       "description_width": ""
      }
     },
     "67b9995de05b48eeb1ba16680659ade0": {
      "model_module": "@jupyter-widgets/base",
      "model_module_version": "1.2.0",
      "model_name": "LayoutModel",
      "state": {
       "grid_area": "right",
       "padding": "0px 0px 0px 0px",
       "width": "70px"
      }
     },
     "68f6ba415ecf4024a7b55b20c5eac2b2": {
      "model_module": "@jupyter-widgets/controls",
      "model_module_version": "1.5.0",
      "model_name": "HTMLModel",
      "state": {
       "layout": "IPY_MODEL_1d57532ae1c640d0a9b904b152d066e9",
       "style": "IPY_MODEL_c9aa7d5e9f534b348c6d3924779498be",
       "value": "<h5>Message</h5>"
      }
     },
     "6b7cd0c97a6c4fb58b7aa571e6bbc1e3": {
      "model_module": "@jupyter-widgets/controls",
      "model_module_version": "1.5.0",
      "model_name": "DescriptionStyleModel",
      "state": {
       "description_width": ""
      }
     },
     "7d701f532e894d118fdbb8ee0a8b1c1f": {
      "model_module": "@jupyter-widgets/controls",
      "model_module_version": "1.5.0",
      "model_name": "HTMLModel",
      "state": {
       "layout": "IPY_MODEL_4d295bb7d18f403ea86f09c98d627130",
       "style": "IPY_MODEL_532d403d84d84b1399c461aad403d015",
       "value": "<h5>Queue</h5>"
      }
     },
     "7fe632b88fc64a68aef9e81c84ddd8ba": {
      "model_module": "@jupyter-widgets/controls",
      "model_module_version": "1.5.0",
      "model_name": "ButtonModel",
      "state": {
       "button_style": "primary",
       "description": "Clear",
       "layout": "IPY_MODEL_67b9995de05b48eeb1ba16680659ade0",
       "style": "IPY_MODEL_2e38ab9b9abd47c8878cf589e3dffc3f"
      }
     },
     "8e3e48b7f7bf407c8041a5716e0b7c62": {
      "model_module": "@jupyter-widgets/base",
      "model_module_version": "1.2.0",
      "model_name": "LayoutModel",
      "state": {
       "grid_template_areas": "\n                                       \". . . . right \"\n                                        ",
       "grid_template_columns": "20% 20% 20% 20% 20%",
       "width": "100%"
      }
     },
     "b349a76d60d14478bb3dc09c400e02ec": {
      "model_module": "@jupyter-widgets/base",
      "model_module_version": "1.2.0",
      "model_name": "LayoutModel",
      "state": {
       "width": "95px"
      }
     },
     "b6e2729f527f46ac9ff142e404b7ffac": {
      "model_module": "@jupyter-widgets/base",
      "model_module_version": "1.2.0",
      "model_name": "LayoutModel",
      "state": {
       "width": "145px"
      }
     },
     "bf19e4b5682f4ff3b8a849a00774b06e": {
      "model_module": "@jupyter-widgets/controls",
      "model_module_version": "1.5.0",
      "model_name": "HTMLModel",
      "state": {
       "layout": "IPY_MODEL_e2e202c0f97e4aa7a3d0b26e6572c2c6",
       "style": "IPY_MODEL_3b2999973391465fa33194f41e230510",
       "value": "<h5>Job ID</h5>"
      }
     },
     "c9aa7d5e9f534b348c6d3924779498be": {
      "model_module": "@jupyter-widgets/controls",
      "model_module_version": "1.5.0",
      "model_name": "DescriptionStyleModel",
      "state": {
       "description_width": ""
      }
     },
     "cb09e5aa8dca449e976cfbace840e28f": {
      "model_module": "@jupyter-widgets/controls",
      "model_module_version": "1.5.0",
      "model_name": "HBoxModel",
      "state": {
       "children": [
        "IPY_MODEL_bf19e4b5682f4ff3b8a849a00774b06e",
        "IPY_MODEL_e6fc1f3e2f0c411ea7baba4ca17975d1",
        "IPY_MODEL_d51be76f221648e397390f337c044702",
        "IPY_MODEL_7d701f532e894d118fdbb8ee0a8b1c1f",
        "IPY_MODEL_68f6ba415ecf4024a7b55b20c5eac2b2"
       ],
       "layout": "IPY_MODEL_35dcc6130b114e4b8fa4fd284dda1037"
      }
     },
     "d0172151e3c34a01b8a28cf3c8df5549": {
      "model_module": "@jupyter-widgets/controls",
      "model_module_version": "1.5.0",
      "model_name": "DescriptionStyleModel",
      "state": {
       "description_width": ""
      }
     },
     "d51be76f221648e397390f337c044702": {
      "model_module": "@jupyter-widgets/controls",
      "model_module_version": "1.5.0",
      "model_name": "HTMLModel",
      "state": {
       "layout": "IPY_MODEL_b349a76d60d14478bb3dc09c400e02ec",
       "style": "IPY_MODEL_14e263c141574a27b2ad99f2e313b767",
       "value": "<h5>Status</h5>"
      }
     },
     "e2e202c0f97e4aa7a3d0b26e6572c2c6": {
      "model_module": "@jupyter-widgets/base",
      "model_module_version": "1.2.0",
      "model_name": "LayoutModel",
      "state": {
       "width": "190px"
      }
     },
     "e6229fb4391146aaa759ef7d7bd554c5": {
      "model_module": "@jupyter-widgets/controls",
      "model_module_version": "1.5.0",
      "model_name": "GridBoxModel",
      "state": {
       "children": [
        "IPY_MODEL_7fe632b88fc64a68aef9e81c84ddd8ba"
       ],
       "layout": "IPY_MODEL_8e3e48b7f7bf407c8041a5716e0b7c62"
      }
     },
     "e6fc1f3e2f0c411ea7baba4ca17975d1": {
      "model_module": "@jupyter-widgets/controls",
      "model_module_version": "1.5.0",
      "model_name": "HTMLModel",
      "state": {
       "layout": "IPY_MODEL_b6e2729f527f46ac9ff142e404b7ffac",
       "style": "IPY_MODEL_d0172151e3c34a01b8a28cf3c8df5549",
       "value": "<h5>Backend</h5>"
      }
     },
     "f298646d8e574c698f1aafa2ae53f01d": {
      "model_module": "@jupyter-widgets/controls",
      "model_module_version": "1.5.0",
      "model_name": "HTMLModel",
      "state": {
       "layout": "IPY_MODEL_3bddef4379a741dda0ec6e34eb066ad7",
       "style": "IPY_MODEL_6b7cd0c97a6c4fb58b7aa571e6bbc1e3",
       "value": "<p style='font-family: IBM Plex Sans, Arial, Helvetica, sans-serif; font-size: 20px; font-weight: medium;'>Circuit Properties</p>"
      }
     }
    },
    "version_major": 2,
    "version_minor": 0
   }
  }
 },
 "nbformat": 4,
 "nbformat_minor": 5
}
