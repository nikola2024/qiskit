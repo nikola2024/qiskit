{
 "cells": [
  {
   "cell_type": "markdown",
   "id": "7c02b96c",
   "metadata": {},
   "source": [
    "# This is a notebook which implements Grover's unstructured database search algorithm. It is capable of searching for multiple correct answers in the database. These correct answers are defined by the user, as is the size of the database."
   ]
  },
  {
   "cell_type": "code",
   "execution_count": 1,
   "id": "cb33cd04",
   "metadata": {},
   "outputs": [
    {
     "data": {
      "text/plain": [
       "<AccountProvider for IBMQ(hub='ibm-q', group='open', project='main')>"
      ]
     },
     "execution_count": 1,
     "metadata": {},
     "output_type": "execute_result"
    }
   ],
   "source": [
    "# import relevant libraries\n",
    "\n",
    "from qiskit import QuantumCircuit, QuantumRegister\n",
    "from qiskit import Aer\n",
    "from qiskit.visualization import array_to_latex\n",
    "from qiskit import compiler\n",
    "from qiskit.quantum_info import Statevector, random_statevector\n",
    "from qiskit import Aer\n",
    "from qiskit.visualization import plot_histogram\n",
    "from qiskit import IBMQ\n",
    "from qiskit import execute\n",
    "from qiskit.tools.monitor import job_monitor\n",
    "\n",
    "import numpy as np\n",
    "import math\n",
    "\n",
    "IBMQ.load_account()"
   ]
  },
  {
   "cell_type": "markdown",
   "id": "c1d04c10",
   "metadata": {},
   "source": [
    "### We start by defining a method which creates the oracle gate corresponding to a passed set of bit strings which correspond to the answers of the search problem"
   ]
  },
  {
   "cell_type": "code",
   "execution_count": 2,
   "id": "01cc63d8",
   "metadata": {},
   "outputs": [],
   "source": [
    "# define oracle, which inverts the phase of specific input bit string corresponding to answer to search problem\n",
    "\n",
    "def create_oracle(answers):\n",
    "    \n",
    "    if type(answers) != list:\n",
    "        answers = [answers]\n",
    "    if not all(type(answer) == str for answer in answers):\n",
    "        raise Exception(\"Error - bit strings passed to create_oracle method must be of type string!\")\n",
    "    \n",
    "    bit_length = len(answers[0])\n",
    "    # generate the quantum circuit\n",
    "    # this is done using the multiple-controlled Z rotation gate, rotating at 180 deg\n",
    "    result = QuantumCircuit(bit_length)\n",
    "    for answer in answers:\n",
    "    \n",
    "        for index, bit in enumerate(answer[::-1]): # transform basis so that answer is now 11..11\n",
    "            \n",
    "            if bit == '0':\n",
    "                \n",
    "                result.x(int(index))\n",
    "                \n",
    "        result.mcrz(np.pi, range(bit_length - 1), bit_length - 1) # flip the 11..11 state\n",
    "        \n",
    "        for index, bit in enumerate(answer[::-1]): # perform inverse transform\n",
    "            \n",
    "            if bit == '0':\n",
    "                \n",
    "                result.x(int(index))\n",
    "                \n",
    "        result.barrier(range(bit_length)) # place a barrier between gates for different answer for clarity\n",
    "    \n",
    "    return result"
   ]
  },
  {
   "cell_type": "markdown",
   "id": "2842864e",
   "metadata": {},
   "source": [
    "### We test whether the gate is the correct one by printing its unitary matrix representation."
   ]
  },
  {
   "cell_type": "code",
   "execution_count": 3,
   "id": "201efd15",
   "metadata": {},
   "outputs": [],
   "source": [
    "def display_unitary(qc, prefix=\"\"):\n",
    "    \"\"\"Simulates a simple circuit and display its matrix representation.\n",
    "    Args:\n",
    "        qc (QuantumCircuit): The circuit to compile to a unitary matrix\n",
    "        prefix (str): Optional LaTeX to be displayed before the matrix\n",
    "    Returns:\n",
    "        None (displays matrix as side effect)\n",
    "    \"\"\"\n",
    "    sim = Aer.get_backend('aer_simulator')\n",
    "    \n",
    "    # Next, we'll create a copy of the circuit and work on\n",
    "    # that so we don't change anything as a side effect\n",
    "    qc = qc.copy()\n",
    "    \n",
    "    # Tell the simulator to save the unitary matrix of this circuit\n",
    "    qc.save_unitary()\n",
    "    unitary = sim.run(qc).result().get_unitary()\n",
    "    display(array_to_latex(unitary, prefix=prefix))"
   ]
  },
  {
   "cell_type": "code",
   "execution_count": 4,
   "id": "3399d5f3",
   "metadata": {},
   "outputs": [
    {
     "data": {
      "image/png": "[encoded data removed]",
      "text/plain": [
       "<Figure size 621.739x200.667 with 1 Axes>"
      ]
     },
     "metadata": {},
     "output_type": "display_data"
    },
    {
     "data": {
      "text/latex": [
       "$$\n",
       "U_\\text{oracle}=\n",
       "\\begin{bmatrix}\n",
       "-1 & 0 & 0 & 0  \\\\\n",
       " 0 & 1 & 0 & 0  \\\\\n",
       " 0 & 0 & 1 & 0  \\\\\n",
       " 0 & 0 & 0 & -1  \\\\\n",
       " \\end{bmatrix}\n",
       "$$"
      ],
      "text/plain": [
       "<IPython.core.display.Latex object>"
      ]
     },
     "metadata": {},
     "output_type": "display_data"
    }
   ],
   "source": [
    "answer_strings = ['00', '11']\n",
    "oracle = create_oracle(answer_strings)\n",
    "display(oracle.draw(output='mpl'))\n",
    "display_unitary(oracle, \"U_\\\\text{oracle}=\")"
   ]
  },
  {
   "cell_type": "markdown",
   "id": "7241ceb0",
   "metadata": {},
   "source": [
    "### Next, we create the gate performing the second operation in each Grover iteration -- the reflection gate. We have implemented this as a reflection about the hyper-plane perpendicular to the equal superposition state, rather than about the superposition state itself, but this should not have any effect on the final result since global phase factors are irrelevant."
   ]
  },
  {
   "cell_type": "code",
   "execution_count": 5,
   "id": "302b927a",
   "metadata": {},
   "outputs": [],
   "source": [
    "# generate gate which reflects quantum state across equal superposition state\n",
    "def generate_reflection_gate(bit_length):\n",
    "    \n",
    "    result = QuantumCircuit(bit_length)\n",
    "    \n",
    "    # transform basis so that superposition state corresponds to 11..11 state\n",
    "    result.h(range(bit_length))\n",
    "    result.x(range(bit_length))\n",
    "    \n",
    "    # apply controlled z rotation gate at 180 deg\n",
    "    if bit_length == 1:\n",
    "        result.z(0)\n",
    "    else:\n",
    "        result.mcrz(np.pi, range(bit_length - 1), bit_length - 1)\n",
    "    \n",
    "    # inverse-transform basis \n",
    "    result.x(range(bit_length))\n",
    "    result.h(range(bit_length))\n",
    "    \n",
    "    # overall, the result is a reflection over the plane perpendicular to the superposition state\n",
    "    # but this is irrelevant since global phase factors do not alter measurement probabilities\n",
    "    return result"
   ]
  },
  {
   "cell_type": "markdown",
   "id": "c0acefdc",
   "metadata": {},
   "source": [
    "### We now show that the reflector gate indeed works. To do this, we first generate a random state vector and calculate the inner products of that vector with each of the Hadamard basis vectors. We then evolve the random state vector with the reflector, and show that the inner products have changed signs accordingly"
   ]
  },
  {
   "cell_type": "code",
   "execution_count": 9,
   "id": "91786f62",
   "metadata": {},
   "outputs": [
    {
     "data": {
      "text/latex": [
       "$$(-0.0604613018611927 - 0.096098101438037 i) |000\\rangle+ (0.0144548906121769 + 0.382937877867609 i) |001\\rangle+ (0.0674080701576106 + 0.0500450219770872 i) |010\\rangle+ (0.484619162692705 + 0.397093878558984 i) |011\\rangle+ (0.138102797457025 + 0.336704993109015 i) |100\\rangle+ (0.0422296762857315 - 0.197989862255967 i) |101\\rangle+ (0.126516283849451 + 0.28679239867173 i) |110\\rangle+ (-0.276618106032213 - 0.304091758452445 i) |111\\rangle$$"
      ],
      "text/plain": [
       "<IPython.core.display.Latex object>"
      ]
     },
     "execution_count": 9,
     "metadata": {},
     "output_type": "execute_result"
    }
   ],
   "source": [
    "# generate random state vector\n",
    "\n",
    "no_qubits = 3\n",
    "random_vector = random_statevector(2**no_qubits)\n",
    "random_vector.draw(output='latex')"
   ]
  },
  {
   "cell_type": "code",
   "execution_count": 10,
   "id": "9b7abd56",
   "metadata": {},
   "outputs": [
    {
     "name": "stdout",
     "output_type": "stream",
     "text": [
      "Inner product with \n"
     ]
    },
    {
     "data": {
      "text/latex": [
       "$$\\frac{\\sqrt{2}}{4} |000\\rangle+\\frac{\\sqrt{2}}{4} |001\\rangle+\\frac{\\sqrt{2}}{4} |010\\rangle+\\frac{\\sqrt{2}}{4} |011\\rangle+\\frac{\\sqrt{2}}{4} |100\\rangle+\\frac{\\sqrt{2}}{4} |101\\rangle+\\frac{\\sqrt{2}}{4} |110\\rangle+\\frac{\\sqrt{2}}{4} |111\\rangle$$"
      ],
      "text/plain": [
       "<IPython.core.display.Latex object>"
      ]
     },
     "metadata": {},
     "output_type": "display_data"
    },
    {
     "name": "stdout",
     "output_type": "stream",
     "text": [
      "is  (0.1895935265468135+0.3024276073984883j) \n",
      "\n",
      "\n",
      "Inner product with \n"
     ]
    },
    {
     "data": {
      "text/latex": [
       "$$\\frac{\\sqrt{2}}{4} |000\\rangle- \\frac{\\sqrt{2}}{4} |001\\rangle+\\frac{\\sqrt{2}}{4} |010\\rangle- \\frac{\\sqrt{2}}{4} |011\\rangle+\\frac{\\sqrt{2}}{4} |100\\rangle- \\frac{\\sqrt{2}}{4} |101\\rangle+\\frac{\\sqrt{2}}{4} |110\\rangle- \\frac{\\sqrt{2}}{4} |111\\rangle$$"
      ],
      "text/plain": [
       "<IPython.core.display.Latex object>"
      ]
     },
     "metadata": {},
     "output_type": "display_data"
    },
    {
     "name": "stdout",
     "output_type": "stream",
     "text": [
      "is  (0.0024325272460786057+0.10588718160044128j) \n",
      "\n",
      "\n",
      "Inner product with \n"
     ]
    },
    {
     "data": {
      "text/latex": [
       "$$\\frac{\\sqrt{2}}{4} |000\\rangle+\\frac{\\sqrt{2}}{4} |001\\rangle- \\frac{\\sqrt{2}}{4} |010\\rangle- \\frac{\\sqrt{2}}{4} |011\\rangle+\\frac{\\sqrt{2}}{4} |100\\rangle+\\frac{\\sqrt{2}}{4} |101\\rangle- \\frac{\\sqrt{2}}{4} |110\\rangle- \\frac{\\sqrt{2}}{4} |111\\rangle$$"
      ],
      "text/plain": [
       "<IPython.core.display.Latex object>"
      ]
     },
     "metadata": {},
     "output_type": "display_data"
    },
    {
     "name": "stdout",
     "output_type": "stream",
     "text": [
      "is  (-0.09461065686740157-0.0015148466917359327j) \n",
      "\n",
      "\n",
      "Inner product with \n"
     ]
    },
    {
     "data": {
      "text/latex": [
       "$$\\frac{\\sqrt{2}}{4} |000\\rangle- \\frac{\\sqrt{2}}{4} |001\\rangle- \\frac{\\sqrt{2}}{4} |010\\rangle+\\frac{\\sqrt{2}}{4} |011\\rangle+\\frac{\\sqrt{2}}{4} |100\\rangle- \\frac{\\sqrt{2}}{4} |101\\rangle- \\frac{\\sqrt{2}}{4} |110\\rangle+\\frac{\\sqrt{2}}{4} |111\\rangle$$"
      ],
      "text/plain": [
       "<IPython.core.display.Latex object>"
      ]
     },
     "metadata": {},
     "output_type": "display_data"
    },
    {
     "name": "stdout",
     "output_type": "stream",
     "text": [
      "is  (0.012386259149066325-0.06653041290566318j) \n",
      "\n",
      "\n",
      "Inner product with \n"
     ]
    },
    {
     "data": {
      "text/latex": [
       "$$\\frac{\\sqrt{2}}{4} |000\\rangle+\\frac{\\sqrt{2}}{4} |001\\rangle+\\frac{\\sqrt{2}}{4} |010\\rangle+\\frac{\\sqrt{2}}{4} |011\\rangle- \\frac{\\sqrt{2}}{4} |100\\rangle- \\frac{\\sqrt{2}}{4} |101\\rangle- \\frac{\\sqrt{2}}{4} |110\\rangle- \\frac{\\sqrt{2}}{4} |111\\rangle$$"
      ],
      "text/plain": [
       "<IPython.core.display.Latex object>"
      ]
     },
     "metadata": {},
     "output_type": "display_data"
    },
    {
     "name": "stdout",
     "output_type": "stream",
     "text": [
      "is  (0.16821722782905374+0.2165736923302485j) \n",
      "\n",
      "\n",
      "Inner product with \n"
     ]
    },
    {
     "data": {
      "text/latex": [
       "$$\\frac{\\sqrt{2}}{4} |000\\rangle- \\frac{\\sqrt{2}}{4} |001\\rangle+\\frac{\\sqrt{2}}{4} |010\\rangle- \\frac{\\sqrt{2}}{4} |011\\rangle- \\frac{\\sqrt{2}}{4} |100\\rangle+\\frac{\\sqrt{2}}{4} |101\\rangle- \\frac{\\sqrt{2}}{4} |110\\rangle+\\frac{\\sqrt{2}}{4} |111\\rangle$$"
      ],
      "text/plain": [
       "<IPython.core.display.Latex object>"
      ]
     },
     "metadata": {},
     "output_type": "display_data"
    },
    {
     "name": "stdout",
     "output_type": "stream",
     "text": [
      "is  (-0.35041906768248815-0.6900173708918992j) \n",
      "\n",
      "\n",
      "Inner product with \n"
     ]
    },
    {
     "data": {
      "text/latex": [
       "$$\\frac{\\sqrt{2}}{4} |000\\rangle+\\frac{\\sqrt{2}}{4} |001\\rangle- \\frac{\\sqrt{2}}{4} |010\\rangle- \\frac{\\sqrt{2}}{4} |011\\rangle- \\frac{\\sqrt{2}}{4} |100\\rangle- \\frac{\\sqrt{2}}{4} |101\\rangle+\\frac{\\sqrt{2}}{4} |110\\rangle+\\frac{\\sqrt{2}}{4} |111\\rangle$$"
      ],
      "text/plain": [
       "<IPython.core.display.Latex object>"
      ]
     },
     "metadata": {},
     "output_type": "display_data"
    },
    {
     "name": "stdout",
     "output_type": "stream",
     "text": [
      "is  (-0.328262988252938-0.11183375098223383j) \n",
      "\n",
      "\n",
      "Inner product with \n"
     ]
    },
    {
     "data": {
      "text/latex": [
       "$$\\frac{\\sqrt{2}}{4} |000\\rangle- \\frac{\\sqrt{2}}{4} |001\\rangle- \\frac{\\sqrt{2}}{4} |010\\rangle+\\frac{\\sqrt{2}}{4} |011\\rangle- \\frac{\\sqrt{2}}{4} |100\\rangle+\\frac{\\sqrt{2}}{4} |101\\rangle+\\frac{\\sqrt{2}}{4} |110\\rangle- \\frac{\\sqrt{2}}{4} |111\\rangle$$"
      ],
      "text/plain": [
       "<IPython.core.display.Latex object>"
      ]
     },
     "metadata": {},
     "output_type": "display_data"
    },
    {
     "name": "stdout",
     "output_type": "stream",
     "text": [
      "is  (0.22965278585015078-0.026798576601600683j) \n",
      "\n",
      "\n"
     ]
    }
   ],
   "source": [
    "# measure the inner products with each of the Hadamard basis state\n",
    "\n",
    "hadamard_transformer = QuantumCircuit(no_qubits)\n",
    "hadamard_transformer.h(range(no_qubits))\n",
    "basis_states = []\n",
    "original_inner_products = []\n",
    "\n",
    "for basis_state_no in range(2**no_qubits):\n",
    "    \n",
    "    vector = np.zeros(2**no_qubits)\n",
    "    vector[basis_state_no] = 1\n",
    "    basis_states.append(Statevector(vector).evolve(hadamard_transformer))\n",
    "    print(\"Inner product with \")\n",
    "    display(basis_states[-1].draw(output='latex'))\n",
    "    original_inner_products.append(basis_states[-1].inner(random_vector))\n",
    "    print(\"is \", original_inner_products[-1], \"\\n\\n\")"
   ]
  },
  {
   "cell_type": "code",
   "execution_count": 11,
   "id": "26421211",
   "metadata": {},
   "outputs": [
    {
     "name": "stdout",
     "output_type": "stream",
     "text": [
      "Inner product with \n"
     ]
    },
    {
     "data": {
      "text/latex": [
       "$$\\frac{\\sqrt{2}}{4} |000\\rangle+\\frac{\\sqrt{2}}{4} |001\\rangle+\\frac{\\sqrt{2}}{4} |010\\rangle+\\frac{\\sqrt{2}}{4} |011\\rangle+\\frac{\\sqrt{2}}{4} |100\\rangle+\\frac{\\sqrt{2}}{4} |101\\rangle+\\frac{\\sqrt{2}}{4} |110\\rangle+\\frac{\\sqrt{2}}{4} |111\\rangle$$"
      ],
      "text/plain": [
       "<IPython.core.display.Latex object>"
      ]
     },
     "metadata": {},
     "output_type": "display_data"
    },
    {
     "name": "stdout",
     "output_type": "stream",
     "text": [
      "is  (-0.18959352654681347-0.3024276073984881j) \n",
      "\n",
      "\n",
      "Inner product with \n"
     ]
    },
    {
     "data": {
      "text/latex": [
       "$$\\frac{\\sqrt{2}}{4} |000\\rangle- \\frac{\\sqrt{2}}{4} |001\\rangle+\\frac{\\sqrt{2}}{4} |010\\rangle- \\frac{\\sqrt{2}}{4} |011\\rangle+\\frac{\\sqrt{2}}{4} |100\\rangle- \\frac{\\sqrt{2}}{4} |101\\rangle+\\frac{\\sqrt{2}}{4} |110\\rangle- \\frac{\\sqrt{2}}{4} |111\\rangle$$"
      ],
      "text/plain": [
       "<IPython.core.display.Latex object>"
      ]
     },
     "metadata": {},
     "output_type": "display_data"
    },
    {
     "name": "stdout",
     "output_type": "stream",
     "text": [
      "is  (0.002432527246078592+0.10588718160044115j) \n",
      "\n",
      "\n",
      "Inner product with \n"
     ]
    },
    {
     "data": {
      "text/latex": [
       "$$\\frac{\\sqrt{2}}{4} |000\\rangle+\\frac{\\sqrt{2}}{4} |001\\rangle- \\frac{\\sqrt{2}}{4} |010\\rangle- \\frac{\\sqrt{2}}{4} |011\\rangle+\\frac{\\sqrt{2}}{4} |100\\rangle+\\frac{\\sqrt{2}}{4} |101\\rangle- \\frac{\\sqrt{2}}{4} |110\\rangle- \\frac{\\sqrt{2}}{4} |111\\rangle$$"
      ],
      "text/plain": [
       "<IPython.core.display.Latex object>"
      ]
     },
     "metadata": {},
     "output_type": "display_data"
    },
    {
     "name": "stdout",
     "output_type": "stream",
     "text": [
      "is  (-0.09461065686740155-0.0015148466917359535j) \n",
      "\n",
      "\n",
      "Inner product with \n"
     ]
    },
    {
     "data": {
      "text/latex": [
       "$$\\frac{\\sqrt{2}}{4} |000\\rangle- \\frac{\\sqrt{2}}{4} |001\\rangle- \\frac{\\sqrt{2}}{4} |010\\rangle+\\frac{\\sqrt{2}}{4} |011\\rangle+\\frac{\\sqrt{2}}{4} |100\\rangle- \\frac{\\sqrt{2}}{4} |101\\rangle- \\frac{\\sqrt{2}}{4} |110\\rangle+\\frac{\\sqrt{2}}{4} |111\\rangle$$"
      ],
      "text/plain": [
       "<IPython.core.display.Latex object>"
      ]
     },
     "metadata": {},
     "output_type": "display_data"
    },
    {
     "name": "stdout",
     "output_type": "stream",
     "text": [
      "is  (0.012386259149066332-0.06653041290566317j) \n",
      "\n",
      "\n",
      "Inner product with \n"
     ]
    },
    {
     "data": {
      "text/latex": [
       "$$\\frac{\\sqrt{2}}{4} |000\\rangle+\\frac{\\sqrt{2}}{4} |001\\rangle+\\frac{\\sqrt{2}}{4} |010\\rangle+\\frac{\\sqrt{2}}{4} |011\\rangle- \\frac{\\sqrt{2}}{4} |100\\rangle- \\frac{\\sqrt{2}}{4} |101\\rangle- \\frac{\\sqrt{2}}{4} |110\\rangle- \\frac{\\sqrt{2}}{4} |111\\rangle$$"
      ],
      "text/plain": [
       "<IPython.core.display.Latex object>"
      ]
     },
     "metadata": {},
     "output_type": "display_data"
    },
    {
     "name": "stdout",
     "output_type": "stream",
     "text": [
      "is  (0.1682172278290537+0.21657369233024842j) \n",
      "\n",
      "\n",
      "Inner product with \n"
     ]
    },
    {
     "data": {
      "text/latex": [
       "$$\\frac{\\sqrt{2}}{4} |000\\rangle- \\frac{\\sqrt{2}}{4} |001\\rangle+\\frac{\\sqrt{2}}{4} |010\\rangle- \\frac{\\sqrt{2}}{4} |011\\rangle- \\frac{\\sqrt{2}}{4} |100\\rangle+\\frac{\\sqrt{2}}{4} |101\\rangle- \\frac{\\sqrt{2}}{4} |110\\rangle+\\frac{\\sqrt{2}}{4} |111\\rangle$$"
      ],
      "text/plain": [
       "<IPython.core.display.Latex object>"
      ]
     },
     "metadata": {},
     "output_type": "display_data"
    },
    {
     "name": "stdout",
     "output_type": "stream",
     "text": [
      "is  (-0.3504190676824881-0.6900173708918986j) \n",
      "\n",
      "\n",
      "Inner product with \n"
     ]
    },
    {
     "data": {
      "text/latex": [
       "$$\\frac{\\sqrt{2}}{4} |000\\rangle+\\frac{\\sqrt{2}}{4} |001\\rangle- \\frac{\\sqrt{2}}{4} |010\\rangle- \\frac{\\sqrt{2}}{4} |011\\rangle- \\frac{\\sqrt{2}}{4} |100\\rangle- \\frac{\\sqrt{2}}{4} |101\\rangle+\\frac{\\sqrt{2}}{4} |110\\rangle+\\frac{\\sqrt{2}}{4} |111\\rangle$$"
      ],
      "text/plain": [
       "<IPython.core.display.Latex object>"
      ]
     },
     "metadata": {},
     "output_type": "display_data"
    },
    {
     "name": "stdout",
     "output_type": "stream",
     "text": [
      "is  (-0.32826298825293787-0.11183375098223376j) \n",
      "\n",
      "\n",
      "Inner product with \n"
     ]
    },
    {
     "data": {
      "text/latex": [
       "$$\\frac{\\sqrt{2}}{4} |000\\rangle- \\frac{\\sqrt{2}}{4} |001\\rangle- \\frac{\\sqrt{2}}{4} |010\\rangle+\\frac{\\sqrt{2}}{4} |011\\rangle- \\frac{\\sqrt{2}}{4} |100\\rangle+\\frac{\\sqrt{2}}{4} |101\\rangle+\\frac{\\sqrt{2}}{4} |110\\rangle- \\frac{\\sqrt{2}}{4} |111\\rangle$$"
      ],
      "text/plain": [
       "<IPython.core.display.Latex object>"
      ]
     },
     "metadata": {},
     "output_type": "display_data"
    },
    {
     "name": "stdout",
     "output_type": "stream",
     "text": [
      "is  (0.2296527858501507-0.026798576601600718j) \n",
      "\n",
      "\n"
     ]
    }
   ],
   "source": [
    "# now we evolve the state using the reflector gate and find the new inner products\n",
    "reflector_gate = generate_reflection_gate(no_qubits)\n",
    "reflected_vector = random_vector.evolve(reflector_gate)\n",
    "reflected_inner_products = []\n",
    "\n",
    "for basis_state in basis_states:\n",
    "    print(\"Inner product with \")\n",
    "    display(basis_state.draw(output='latex'))\n",
    "    reflected_inner_products.append(basis_state.inner(reflected_vector))\n",
    "    print(\"is \", reflected_inner_products[-1], \"\\n\\n\")"
   ]
  },
  {
   "cell_type": "code",
   "execution_count": 15,
   "id": "e801bfff",
   "metadata": {},
   "outputs": [
    {
     "name": "stdout",
     "output_type": "stream",
     "text": [
      "Expansion coeficient has been flipped for following Hadamard basis state:\n"
     ]
    },
    {
     "data": {
      "text/latex": [
       "$$\\frac{\\sqrt{2}}{4} |000\\rangle+\\frac{\\sqrt{2}}{4} |001\\rangle+\\frac{\\sqrt{2}}{4} |010\\rangle+\\frac{\\sqrt{2}}{4} |011\\rangle+\\frac{\\sqrt{2}}{4} |100\\rangle+\\frac{\\sqrt{2}}{4} |101\\rangle+\\frac{\\sqrt{2}}{4} |110\\rangle+\\frac{\\sqrt{2}}{4} |111\\rangle$$"
      ],
      "text/plain": [
       "<IPython.core.display.Latex object>"
      ]
     },
     "metadata": {},
     "output_type": "display_data"
    }
   ],
   "source": [
    "# print the basis state for which the expansion coeeficient's sign has been flipped\n",
    "\n",
    "for index, basis_state in enumerate(basis_states):\n",
    "\n",
    "    if math.isclose(original_inner_products[index].real, -1.0 * reflected_inner_products[index].real) and math.isclose(original_inner_products[index].imag, -1.0 * reflected_inner_products[index].imag):\n",
    "\n",
    "        print(\"Expansion coeficient has been flipped for following Hadamard basis state:\")\n",
    "        display(basis_state.draw(output='latex'))\n",
    "        \n"
   ]
  },
  {
   "cell_type": "markdown",
   "id": "2f595adc",
   "metadata": {},
   "source": [
    "### We now combine everything to create the overall quantum circuit which solves the search problem."
   ]
  },
  {
   "cell_type": "code",
   "execution_count": 22,
   "id": "9dda4acd",
   "metadata": {},
   "outputs": [],
   "source": [
    "# define which are the correct answers\n",
    "answers = ['011', '110']\n",
    "\n",
    "# create the oracle and reflector gates\n",
    "no_qubits = len(answers[0])\n",
    "oracle = create_oracle(answers)\n",
    "reflector = generate_reflection_gate(no_qubits)\n",
    "\n",
    "# determine how many grover iterations must be performed\n",
    "initial_angle = math.asin(math.sqrt(len(answers) / (2**no_qubits)))\n",
    "no_grover_iterations = int(0.25 * math.pi / initial_angle - 0.5)\n",
    "\n",
    "# create the full quantum circuit\n",
    "grover_circuit = QuantumCircuit(no_qubits)\n",
    "grover_circuit.h(range(no_qubits))\n",
    "grover_circuit.barrier()\n",
    "for grover_iteration in range(no_grover_iterations):\n",
    "    grover_circuit = grover_circuit.compose(oracle)\n",
    "    grover_circuit = grover_circuit.compose(reflector)\n",
    "    grover_circuit.barrier()\n",
    "grover_circuit.measure_all()"
   ]
  },
  {
   "cell_type": "code",
   "execution_count": 23,
   "id": "45b4c31f",
   "metadata": {},
   "outputs": [
    {
     "name": "stdout",
     "output_type": "stream",
     "text": [
      "The probability of finding a correct answer is 100.0 %\n"
     ]
    },
    {
     "data": {
      "image/png": "[encoded data removed]",
      "text/plain": [
       "<Figure size 700x500 with 1 Axes>"
      ]
     },
     "execution_count": 23,
     "metadata": {},
     "output_type": "execute_result"
    }
   ],
   "source": [
    "# simulate the operation of the quantum circuit\n",
    "\n",
    "simulator = Aer.get_backend('aer_simulator')\n",
    "results = simulator.run(grover_circuit).result().get_counts()\n",
    "total_simulations = 0\n",
    "for result in results:\n",
    "    total_simulations += results[result]\n",
    "\n",
    "success_probability = 0\n",
    "for answer in answers:\n",
    "    success_probability += results[answer]\n",
    "print(\"The probability of finding a correct answer is\", success_probability/total_simulations * 100, \"%\")\n",
    "plot_histogram(results)\n"
   ]
  },
  {
   "cell_type": "markdown",
   "id": "98c44600",
   "metadata": {},
   "source": [
    "### We can also run the algorithm on a real quantum circuit."
   ]
  },
  {
   "cell_type": "code",
   "execution_count": 24,
   "id": "b2b216dc",
   "metadata": {},
   "outputs": [
    {
     "name": "stdout",
     "output_type": "stream",
     "text": [
      "ibmq_qasm_simulator\n",
      "ibmq_lima\n",
      "ibmq_belem\n",
      "ibmq_quito\n",
      "simulator_statevector\n",
      "simulator_mps\n",
      "simulator_extended_stabilizer\n",
      "simulator_stabilizer\n",
      "ibmq_manila\n",
      "ibm_nairobi\n",
      "ibm_oslo\n"
     ]
    }
   ],
   "source": [
    "provider = IBMQ.get_provider('ibm-q')\n",
    "for backend in provider.backends():\n",
    "    print(backend)"
   ]
  },
  {
   "cell_type": "code",
   "execution_count": 25,
   "id": "7c167bee",
   "metadata": {},
   "outputs": [],
   "source": [
    "backend = provider.get_backend('ibmq_lima')"
   ]
  },
  {
   "cell_type": "code",
   "execution_count": 26,
   "id": "97fa0657",
   "metadata": {},
   "outputs": [
    {
     "name": "stdout",
     "output_type": "stream",
     "text": [
      "Job Status: job has successfully run\n"
     ]
    }
   ],
   "source": [
    "job = execute(grover_circuit, backend)\n",
    "job_monitor(job)"
   ]
  },
  {
   "cell_type": "code",
   "execution_count": 29,
   "id": "632cf26a",
   "metadata": {},
   "outputs": [
    {
     "name": "stdout",
     "output_type": "stream",
     "text": [
      "The probability of finding a correct answer is 55.175 %\n"
     ]
    },
    {
     "data": {
      "image/png": "[encoded data removed]",
      "text/plain": [
       "<Figure size 700x500 with 1 Axes>"
      ]
     },
     "execution_count": 29,
     "metadata": {},
     "output_type": "execute_result"
    }
   ],
   "source": [
    "results_qc = job.result().get_counts(grover_circuit)\n",
    "total_simulations = 0\n",
    "for result in results_qc:\n",
    "    total_simulations += results_qc[result]\n",
    "\n",
    "success_probability = 0\n",
    "for answer in answers:\n",
    "    success_probability += results_qc[answer]\n",
    "print(\"The probability of finding a correct answer is\", success_probability/total_simulations * 100, \"%\")\n",
    "plot_histogram(job.result().get_counts(grover_circuit))"
   ]
  },
  {
   "cell_type": "code",
   "execution_count": null,
   "id": "f65aead2",
   "metadata": {},
   "outputs": [],
   "source": []
  }
 ],
 "metadata": {
  "kernelspec": {
   "display_name": "Python 3.8.9 64-bit",
   "language": "python",
   "name": "python3"
  },
  "language_info": {
   "codemirror_mode": {
    "name": "ipython",
    "version": 3
   },
   "file_extension": ".py",
   "mimetype": "text/x-python",
   "name": "python",
   "nbconvert_exporter": "python",
   "pygments_lexer": "ipython3",
   "version": "3.8.9"
  },
  "vscode": {
   "interpreter": {
    "hash": "31f2aee4e71d21fbe5cf8b01ff0e069b9275f58929596ceb00d14d90e3e16cd6"
   }
  }
 },
 "nbformat": 4,
 "nbformat_minor": 5
}
